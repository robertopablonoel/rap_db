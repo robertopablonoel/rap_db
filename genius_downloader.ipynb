{
 "cells": [
  {
   "cell_type": "code",
   "execution_count": null,
   "metadata": {},
   "outputs": [],
   "source": [
    "import requests\n",
    "import json\n",
    "\n",
    "\n",
    "# Define the base URL of the API\n",
    "base_url = \"https://api.genius.com\"\n",
    "\n",
    "# Endpoints\n",
    "artist_endpoint = \"/artists/:id\"\n",
    "songs_endpoint = \"/artists/:id/songs\"\n",
    "\n",
    "# Replace ':id' with a specific artist ID, for example '16775'\n",
    "artist_id = \"897106\"  # This is just an example ID and should be replaced with the actual artist ID needed.\n",
    "artist_endpoint = artist_endpoint.replace(\":id\", artist_id)\n",
    "songs_endpoint = songs_endpoint.replace(\":id\", artist_id)\n",
    "\n",
    "# Your bearer token should be added here\n",
    "bearer_token = \"REPLACE\"\n",
    "\n",
    "# Headers with Authorization\n",
    "headers = {\n",
    "    \"Authorization\": f\"Bearer {bearer_token}\"\n",
    "}\n",
    "\n",
    "# Function to get data for a specific artist\n",
    "def get_artist_data(artist_id):\n",
    "    response = requests.get(f\"{base_url}{artist_endpoint}\", headers=headers)\n",
    "    return response.json()\n",
    "\n",
    "# Function to get songs for a specific artist\n",
    "def get_artist_songs(artist_id, sort=\"title\", per_page=20, page=1):\n",
    "    params = {\n",
    "        \"sort\": sort,\n",
    "        \"per_page\": per_page,\n",
    "        \"page\": page\n",
    "    }\n",
    "    response = requests.get(f\"{base_url}{songs_endpoint}\", headers=headers, params=params)\n",
    "    return response.json()\n",
    "\n",
    "# Example usage\n",
    "# Please note: Without a valid bearer token, these requests will not succeed.\n",
    "artist_data = get_artist_data(artist_id)\n",
    "artist_songs = get_artist_songs(artist_id)\n",
    "\n",
    "# Since we cannot actually hit the API without a valid token, these function calls are commented out.\n",
    "# You would need to uncomment and provide a valid bearer token for them to work.\n",
    "\n",
    "pretty_json = json.dumps(artist_songs, indent=4)\n",
    "\n",
    "print(pretty_json)\n"
   ]
  },
  {
   "cell_type": "code",
   "execution_count": null,
   "metadata": {},
   "outputs": [],
   "source": [
    "print(type(artist_songs))"
   ]
  },
  {
   "cell_type": "code",
   "execution_count": null,
   "metadata": {},
   "outputs": [],
   "source": [
    "# Parse the JSON\n",
    "response = json.loads(pretty_json)\n",
    "\n",
    "# Extract the songs\n",
    "songs = response[\"response\"][\"songs\"]\n",
    "\n",
    "# Extract the api_path of each song\n",
    "song_data = [{\"title\": song[\"full_title\"], \"artist\": song[\"artist_names\"], \"api_path\": song[\"api_path\"]} for song in songs]\n",
    "\n",
    "print(song_data)"
   ]
  },
  {
   "cell_type": "code",
   "execution_count": null,
   "metadata": {},
   "outputs": [],
   "source": [
    "# Function to get data for a specific song\n",
    "def get_song_data(api_path):\n",
    "    response = requests.get(f\"{base_url}{api_path}\", headers=headers)\n",
    "    if response.status_code == 200:\n",
    "        return response.json()\n",
    "    else:\n",
    "        return response.status_code\n",
    "\n",
    "for i in range(0, len(song_data)):\n",
    "    song_data[i][\"url\"] = get_song_data(song_data[i][\"api_path\"])[\"response\"][\"song\"][\"url\"]"
   ]
  },
  {
   "cell_type": "code",
   "execution_count": null,
   "metadata": {},
   "outputs": [],
   "source": [
    "import requests\n",
    "from bs4 import BeautifulSoup\n",
    "\n",
    "def get_lyrics_container(url):\n",
    "    # Send a GET request to the URL\n",
    "    response = requests.get(url)\n",
    "    \n",
    "    # Check if the request was successful\n",
    "    if response.status_code == 200:\n",
    "        # Parse the HTML content\n",
    "        soup = BeautifulSoup(response.text, 'html.parser')\n",
    "        \n",
    "        # Find the div with the 'data-lyrics-container' attribute\n",
    "        lyrics_div = soup.find('div', attrs={\"data-lyrics-container\": True})\n",
    "        \n",
    "        # Return the text within the div, or the entire element if needed\n",
    "        return lyrics_div.get_text() if lyrics_div else None\n",
    "    else:\n",
    "        print(f\"Failed to retrieve the webpage: Status code {response.status_code}\")\n",
    "        return None\n",
    "\n",
    "# Example usage:\n",
    "# Replace 'url' with the actual URL of the website you want to scrape\n",
    "lyrics = get_lyrics_container('https://genius.com/Central-cee-23-freestyle-demo-lyrics')\n",
    "\n",
    "\n",
    "for i in range(0, len(song_data)):\n",
    "    song_data[i][\"url\"] = get_lyrics_container(song_data[i][\"url\"])\n",
    "\n",
    "# Pretty print the list of dictionaries\n",
    "pretty_string = json.dumps(song_data, indent=4, sort_keys=True)\n",
    "print(pretty_string)"
   ]
  },
  {
   "cell_type": "code",
   "execution_count": null,
   "metadata": {},
   "outputs": [],
   "source": []
  }
 ],
 "metadata": {
  "kernelspec": {
   "display_name": "Python 3",
   "language": "python",
   "name": "python3"
  },
  "language_info": {
   "codemirror_mode": {
    "name": "ipython",
    "version": 3
   },
   "file_extension": ".py",
   "mimetype": "text/x-python",
   "name": "python",
   "nbconvert_exporter": "python",
   "pygments_lexer": "ipython3",
   "version": "3.9.7"
  },
  "orig_nbformat": 4
 },
 "nbformat": 4,
 "nbformat_minor": 2
}
